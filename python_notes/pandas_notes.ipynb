{
 "cells": [
  {
   "cell_type": "code",
   "execution_count": 1,
   "metadata": {},
   "outputs": [],
   "source": [
    "import pandas as pd"
   ]
  },
  {
   "cell_type": "markdown",
   "metadata": {},
   "source": [
    "## Stacking & Unstacking\n",
    "\n",
    "Exploration of pivoting / unpivoting using the inbuilt `.stack()` & `.unstack()` functionality. \n",
    "\n",
    "[Reference Video](https://www.youtube.com/watch?v=kJsiiPK5sxs)"
   ]
  },
  {
   "cell_type": "code",
   "execution_count": null,
   "metadata": {},
   "outputs": [],
   "source": [
    "###\n",
    "# Code for re-labeling multi indexed columns, to avoid having to use index tuples\n",
    "###\n",
    "\n",
    "# tips_us_copy = tips_us.copy()\n",
    "\n",
    "# tips_us_copy.columns = ['__'.join(col).strip() for col in tips_us.columns.values]"
   ]
  }
 ],
 "metadata": {
  "kernelspec": {
   "display_name": "ds_py3.9",
   "language": "python",
   "name": "python3"
  },
  "language_info": {
   "codemirror_mode": {
    "name": "ipython",
    "version": 3
   },
   "file_extension": ".py",
   "mimetype": "text/x-python",
   "name": "python",
   "nbconvert_exporter": "python",
   "pygments_lexer": "ipython3",
   "version": "3.9.11"
  },
  "orig_nbformat": 4
 },
 "nbformat": 4,
 "nbformat_minor": 2
}
