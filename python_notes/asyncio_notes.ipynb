{
 "cells": [
  {
   "cell_type": "code",
   "execution_count": 1,
   "metadata": {},
   "outputs": [],
   "source": [
    "import asyncio"
   ]
  },
  {
   "cell_type": "markdown",
   "metadata": {},
   "source": [
    "# Introduction\n",
    "\n",
    "A primer on how to use asynchronous programming in python via the inbuilt `asyncio` package.\n",
    "\n",
    "Note that asynchrnous programming __is not__ the same as multithreading. The latter refers to creating multiple threads to _run several processes concurrently_. \n",
    "\n",
    "Asynchronous programming only performs __one process at a time__, however when a certain task is paused (awaiting a response / sleeping / etc), the processor can be given to another task so as to minimize the overall compute time required. \n",
    "\n",
    "##  A note on running `async` in jupyter notebooks\n",
    "\n",
    "Jupyter notebooks have a persistent `asyncio` [loop running](https://ipython.readthedocs.io/en/stable/interactive/autoawait.html#difference-between-terminal-ipython-and-ipykernel). This means that you will not be able to execute asyncronous code in notebook cells using `asyncio.run()`. You may simply call `await function()` instead. \n",
    "\n",
    "Think of it as there being a `asyncio.run()` command inherent to each executed cell. \n",
    "\n",
    "Note that the examples listed here will be with respect to asynchronous programming in genenral python environments, not in jupyter."
   ]
  },
  {
   "cell_type": "markdown",
   "metadata": {},
   "source": [
    "# Co-Routines\n",
    "\n",
    "A co-routine is a wrapper for an asynchronous python function. It turns a traditional python function into a program component that can be suspended or resumed on command. \n",
    "\n",
    "The declaration of a coroutine is simple. Add the `async` statement before any function definition. "
   ]
  },
  {
   "cell_type": "code",
   "execution_count": 3,
   "metadata": {},
   "outputs": [],
   "source": [
    "# This is a coroutine\n",
    "async def main():\n",
    "    print(\"Hell world!\")\n",
    "   \n"
   ]
  },
  {
   "cell_type": "markdown",
   "metadata": {},
   "source": [
    "# Event Loops\n",
    "\n",
    "Calling a coroutine in the traditional python style, for example :\n",
    "```{python}\n",
    "async def main():\n",
    "    print(\"Hell world!\")\n",
    "\n",
    "if __name__ == \"__main__\"\n",
    "    main()\n",
    "```\n",
    "will not work. \n",
    "\n",
    "Executing a coroutine can only be done in an event loop. In computer science, the event loop is a construct that waits for and dispatches events or messages in a program. \n",
    "\n",
    "The `async` package has an inbuilt event loop constructor (`async.run()`) that handles the lower level implementation details for us. \n",
    "\n",
    "The example above is thus rectified to :\n",
    "\n",
    "```{python}\n",
    "async def main():\n",
    "    print(\"Hell world!\")\n",
    "\n",
    "if __name__ == \"__main__\"\n",
    "    asyncio.run(main())\n",
    "```\n",
    "\n",
    "All coroutines (asynchrnous python functions) can also be called within other coroutines, however they must be called via the `await` syntax. More on that in the next section."
   ]
  },
  {
   "cell_type": "markdown",
   "metadata": {},
   "source": [
    "# `await`\n",
    "\n",
    "The `await` syntax is a key part of the asynchronous framework in python. It allows coroutines to be called in other coroutines. \n",
    "\n",
    "The only way to call another coroutine within a coroutine is by invoking it with `await`. This will force the program to wait until the called coroutine is complete before moving on."
   ]
  },
  {
   "cell_type": "code",
   "execution_count": 8,
   "metadata": {},
   "outputs": [
    {
     "name": "stdout",
     "output_type": "stream",
     "text": [
      "hello there!\n",
      "text\n",
      "All done!\n"
     ]
    }
   ],
   "source": [
    "async def main():\n",
    "    print(\"hello there!\")\n",
    "    await foo()\n",
    "    print(\"All done!\")\n",
    "\n",
    "async def foo():\n",
    "    print(\"text\")\n",
    "    await asyncio.sleep(1)\n",
    "\n",
    "await main()"
   ]
  },
  {
   "cell_type": "markdown",
   "metadata": {},
   "source": [
    "# Tasks\n",
    "\n",
    "From the above example we can see that `await` forces the program to wait till the coroutine it calls has been completed. \n",
    "\n",
    "Ideally if a coroutine is not doing anything (e.g. sleeping / awaiting a http response), we want the processor to be performing other operations. \n",
    "\n",
    "We can accomplish this by using `tasks` in `asyncio`. This will assign a task in the program to execute the specified coroutine __as soon as possible__. "
   ]
  },
  {
   "cell_type": "code",
   "execution_count": 14,
   "metadata": {},
   "outputs": [
    {
     "name": "stdout",
     "output_type": "stream",
     "text": [
      "hello there!\n",
      "All done!\n",
      "text\n"
     ]
    }
   ],
   "source": [
    "async def main():\n",
    "    print(\"hello there!\")\n",
    "    task = asyncio.create_task(foo())\n",
    "    print(\"All done!\")\n",
    "\n",
    "async def foo():\n",
    "    print(\"text\")\n",
    "    await asyncio.sleep(1)\n",
    "\n",
    "await main()"
   ]
  },
  {
   "cell_type": "markdown",
   "metadata": {},
   "source": [
    "`\"All done!\"` gets printed before `'text'` because even though the task has been created, the `main()` function is still running. Remember that created `tasks` are only executed once the processor becomes available. \n",
    "\n",
    "In the case of the example this was at the end of the `main()` function call."
   ]
  },
  {
   "cell_type": "code",
   "execution_count": 15,
   "metadata": {},
   "outputs": [
    {
     "name": "stdout",
     "output_type": "stream",
     "text": [
      "hello there!\n",
      "text\n",
      "All done!\n"
     ]
    }
   ],
   "source": [
    "async def main():\n",
    "    print(\"hello there!\")\n",
    "    task = asyncio.create_task(foo())\n",
    "    await asyncio.sleep(2)\n",
    "    print(\"All done!\")\n",
    "\n",
    "async def foo():\n",
    "    print(\"text\")\n",
    "    await asyncio.sleep(1)\n",
    "\n",
    "await main()"
   ]
  },
  {
   "cell_type": "markdown",
   "metadata": {},
   "source": [
    "In this new example we can see that since the `main()` function had an idle period of 2 seconds between creating the task and printing `\"All done!\"`, it reassigned the processor to the completion of `foo()`."
   ]
  },
  {
   "cell_type": "markdown",
   "metadata": {},
   "source": [
    "# Futures\n",
    "\n",
    "Most coroutines are run with a return value in mind. When a coroutine is run as a `task`, a `future` is created. This is a placeholder value for what the coroutine will actually return in the future once it has been completed. "
   ]
  },
  {
   "cell_type": "code",
   "execution_count": 19,
   "metadata": {},
   "outputs": [
    {
     "name": "stdout",
     "output_type": "stream",
     "text": [
      "<Task pending name='Task-27' coro=<fetch_data() running at /var/folders/lt/1bfps6v903d64dxtxrz736pw0000gn/T/ipykernel_94129/1358838374.py:1>>\n",
      "Start fetching\n"
     ]
    }
   ],
   "source": [
    "async def fetch_data():\n",
    "    print(\"Start fetching\")\n",
    "    await asyncio.sleep(2)\n",
    "    return {'data':1}\n",
    "\n",
    "async def print_numbers():\n",
    "    for i in range(5):\n",
    "        print(i)\n",
    "        await asyncio.sleep(0.25)\n",
    "\n",
    "async def main():\n",
    "    task1 = asyncio.create_task(fetch_data())\n",
    "    # task2 = asyncio.create_task(print_numbers())\n",
    "    print(task1)\n",
    "\n",
    "await main()\n"
   ]
  },
  {
   "cell_type": "markdown",
   "metadata": {},
   "source": [
    "Observe that this does not actually print out the proper return value of `fetch_data()`\n",
    "\n",
    "To get the proper return value we will need to force the completion of the task using `await`"
   ]
  },
  {
   "cell_type": "code",
   "execution_count": 20,
   "metadata": {},
   "outputs": [
    {
     "name": "stdout",
     "output_type": "stream",
     "text": [
      "Start fetching\n",
      "{'data': 1}\n"
     ]
    }
   ],
   "source": [
    "async def main():\n",
    "    task1 = asyncio.create_task(fetch_data())\n",
    "    # task2 = asyncio.create_task(print_numbers())\n",
    "    value = await task1\n",
    "    print(value)\n",
    "\n",
    "await main()"
   ]
  },
  {
   "cell_type": "markdown",
   "metadata": {},
   "source": [
    "Note that all scheduled tasks will always complete by the time the program terminates. That is to say that the program will not terminate while there are still unfinished tasks.\n",
    "\n",
    "Not sure if this behaviour differs from previous python versions. Some of the resources make it appear that tasks may be left unfinished at termination time if not explicitly awaited for. However my trials both on jupyter & the command line python interpreter always complete all tasks before termination."
   ]
  },
  {
   "cell_type": "markdown",
   "metadata": {},
   "source": [
    "# Resources\n",
    "\n",
    "1. Excellent introductory [youtube video](https://www.youtube.com/watch?v=t5Bo1Je9EmE)\n",
    "\n",
    "2. [Docs](https://docs.python.org/3/library/asyncio.html) are not super beginer-friendly, will require some details reading."
   ]
  },
  {
   "cell_type": "markdown",
   "metadata": {},
   "source": []
  }
 ],
 "metadata": {
  "kernelspec": {
   "display_name": "ds_py3.9",
   "language": "python",
   "name": "python3"
  },
  "language_info": {
   "codemirror_mode": {
    "name": "ipython",
    "version": 3
   },
   "file_extension": ".py",
   "mimetype": "text/x-python",
   "name": "python",
   "nbconvert_exporter": "python",
   "pygments_lexer": "ipython3",
   "version": "3.9.11"
  }
 },
 "nbformat": 4,
 "nbformat_minor": 2
}
