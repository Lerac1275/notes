{
 "cells": [
  {
   "cell_type": "code",
   "execution_count": 15,
   "metadata": {},
   "outputs": [],
   "source": [
    "import polars as pl, pandas as pd\n",
    "import seaborn as sns"
   ]
  },
  {
   "cell_type": "code",
   "execution_count": 6,
   "metadata": {},
   "outputs": [],
   "source": [
    "# Path to a sample dataset. This dataset has a good variety of numeric / categorical columns. \n",
    "dataset_path = \"../datasets/taxi_data.csv\""
   ]
  },
  {
   "cell_type": "markdown",
   "metadata": {},
   "source": [
    "# Basics\n",
    "\n",
    "Going through the very basics of `polars`. This assumes some familiarity with `pandas` sytax.\n",
    "\n",
    "[Reference](https://pola-rs.github.io/polars/user-guide/concepts/contexts/#select)\n",
    "\n",
    "[Full API Reference](https://pola-rs.github.io/polars/py-polars/html/reference/index.html)"
   ]
  },
  {
   "cell_type": "markdown",
   "metadata": {},
   "source": [
    "# Lazy / Eager API\n",
    "\n",
    "This is a brief summary of `polars'` main operation modes (Lazy / Eager). \n",
    "\n",
    "In short, the default mode of `polars` is _Lazy_. That is to say: execution of the query isn't carried out line-by-line (as in the _Eager_ mode) but is only executed once it is _'needed'_. \n",
    "\n",
    "This has the benefit of: \n",
    "\n",
    "1. Allowing automatic query optimization\n",
    "2. The ability to work with larger than memory datasets using streaming \n",
    "3. Catching scehma errors before data processing\n",
    "\n",
    "Find out more [here](https://pola-rs.github.io/polars/user-guide/lazy/using/)"
   ]
  },
  {
   "cell_type": "markdown",
   "metadata": {},
   "source": [
    "## Eager API\n",
    "Example use case with the eager API:"
   ]
  },
  {
   "cell_type": "code",
   "execution_count": 12,
   "metadata": {},
   "outputs": [],
   "source": [
    "df = pl.read_csv(dataset_path)\n",
    "# Filter out trips with more than one passenger\n",
    "df = df.filter(pl.col('passengers')<=1)\n",
    "# Get the total fares by payment\n",
    "df = df.group_by(\"payment\").agg(pl.col(\"fare\").sum())"
   ]
  },
  {
   "cell_type": "code",
   "execution_count": 13,
   "metadata": {},
   "outputs": [
    {
     "data": {
      "text/html": [
       "<div><style>\n",
       ".dataframe > thead > tr > th,\n",
       ".dataframe > tbody > tr > td {\n",
       "  text-align: right;\n",
       "  white-space: pre-wrap;\n",
       "}\n",
       "</style>\n",
       "<small>shape: (3, 2)</small><table border=\"1\" class=\"dataframe\"><thead><tr><th>payment</th><th>fare</th></tr><tr><td>str</td><td>f64</td></tr></thead><tbody><tr><td>&quot;credit card&quot;</td><td>46939.87</td></tr><tr><td>&quot;cash&quot;</td><td>14825.5</td></tr><tr><td>null</td><td>444.5</td></tr></tbody></table></div>"
      ],
      "text/plain": [
       "shape: (3, 2)\n",
       "┌─────────────┬──────────┐\n",
       "│ payment     ┆ fare     │\n",
       "│ ---         ┆ ---      │\n",
       "│ str         ┆ f64      │\n",
       "╞═════════════╪══════════╡\n",
       "│ credit card ┆ 46939.87 │\n",
       "│ cash        ┆ 14825.5  │\n",
       "│ null        ┆ 444.5    │\n",
       "└─────────────┴──────────┘"
      ]
     },
     "execution_count": 13,
     "metadata": {},
     "output_type": "execute_result"
    }
   ],
   "source": [
    "df"
   ]
  },
  {
   "cell_type": "markdown",
   "metadata": {},
   "source": [
    "Observe that every step was executed immediately to return intermediate results. This is wasteful as we did not need to load in all the data. "
   ]
  },
  {
   "cell_type": "markdown",
   "metadata": {},
   "source": [
    "### Lazy API\n",
    "\n",
    "Recreating the same example but with the _Lazy_ api. "
   ]
  },
  {
   "cell_type": "code",
   "execution_count": 14,
   "metadata": {},
   "outputs": [],
   "source": [
    "q = (\n",
    "    # SCAN does not read in the entire dataset into memory (unlike READ)\n",
    "    pl.scan_csv(dataset_path)\n",
    "    .filter(pl.col('passengers')<=1)\n",
    "    .group_by('payment')\n",
    "    .agg(pl.col(\"fare\").sum())\n",
    ")\n",
    "df = q.collect()"
   ]
  },
  {
   "cell_type": "markdown",
   "metadata": {},
   "source": [
    "For large datasets this significantly lowers the load on memory & CPU, allowing bigger datasets to be processed at greater speeds. \n",
    "\n",
    "Crucially, once the query is defined we call `.collect()` to execute the query. "
   ]
  },
  {
   "cell_type": "markdown",
   "metadata": {},
   "source": [
    "## Contexts\n",
    "\n",
    "A __context__ refers to the context (haha) in which an expression needs to be evaluated, and there are three main contexts :\n",
    "\n",
    "1. Selection - `df.select([...])`, `df.with_columns([..])`\n",
    "2. Filtering - `df.filter()`\n",
    "3. Group By / Aggregation - `df.group_by(...).agg(...)`"
   ]
  },
  {
   "cell_type": "markdown",
   "metadata": {},
   "source": [
    "### Selection\n",
    "\n",
    "In this context the selection applies expressions over columns. The result must be a `series` that are all of equal length or have a length of 1 (then broadcasated to match the height of the `DataFrame`)"
   ]
  },
  {
   "cell_type": "code",
   "execution_count": 28,
   "metadata": {},
   "outputs": [
    {
     "data": {
      "text/html": [
       "<div><style>\n",
       ".dataframe > thead > tr > th,\n",
       ".dataframe > tbody > tr > td {\n",
       "  text-align: right;\n",
       "  white-space: pre-wrap;\n",
       "}\n",
       "</style>\n",
       "<small>shape: (5, 3)</small><table border=\"1\" class=\"dataframe\"><thead><tr><th>fare</th><th>borough_pickup</th><th>mean_distance</th></tr><tr><td>f64</td><td>str</td><td>f64</td></tr></thead><tbody><tr><td>84214.87</td><td>&quot;Bronx&quot;</td><td>30.246168</td></tr><tr><td>84214.87</td><td>&quot;Bronx&quot;</td><td>30.246168</td></tr><tr><td>84214.87</td><td>&quot;Bronx&quot;</td><td>30.246168</td></tr><tr><td>84214.87</td><td>&quot;Bronx&quot;</td><td>30.246168</td></tr><tr><td>84214.87</td><td>&quot;Bronx&quot;</td><td>30.246168</td></tr></tbody></table></div>"
      ],
      "text/plain": [
       "shape: (5, 3)\n",
       "┌──────────┬────────────────┬───────────────┐\n",
       "│ fare     ┆ borough_pickup ┆ mean_distance │\n",
       "│ ---      ┆ ---            ┆ ---           │\n",
       "│ f64      ┆ str            ┆ f64           │\n",
       "╞══════════╪════════════════╪═══════════════╡\n",
       "│ 84214.87 ┆ Bronx          ┆ 30.246168     │\n",
       "│ 84214.87 ┆ Bronx          ┆ 30.246168     │\n",
       "│ 84214.87 ┆ Bronx          ┆ 30.246168     │\n",
       "│ 84214.87 ┆ Bronx          ┆ 30.246168     │\n",
       "│ 84214.87 ┆ Bronx          ┆ 30.246168     │\n",
       "└──────────┴────────────────┴───────────────┘"
      ]
     },
     "execution_count": 28,
     "metadata": {},
     "output_type": "execute_result"
    }
   ],
   "source": [
    "q = (\n",
    "    pl.scan_csv(dataset_path)\n",
    "    .select(\n",
    "        # Sum the fares. Results in ONE value -> Broadcasted\n",
    "        pl.sum('fare') \n",
    "        # Sort a column of values and change the column name\n",
    "        , pl.col('pickup_borough').sort(nulls_last=True).alias('borough_pickup')\n",
    "        # Aggregate a column to produce one value and do an operation on it -> Broadcaster\n",
    "        , (pl.mean('distance')*10).alias('mean_distance')\n",
    "    )\n",
    ")\n",
    "df = q.collect()\n",
    "df.head(5)"
   ]
  },
  {
   "cell_type": "markdown",
   "metadata": {},
   "source": [
    "Within the `select` context, any manipulation of a `Series` can be performed so long as it meets either one of the aforementioned conditions.\n"
   ]
  },
  {
   "cell_type": "markdown",
   "metadata": {},
   "source": []
  }
 ],
 "metadata": {
  "kernelspec": {
   "display_name": "ds_py3.9",
   "language": "python",
   "name": "python3"
  },
  "language_info": {
   "codemirror_mode": {
    "name": "ipython",
    "version": 3
   },
   "file_extension": ".py",
   "mimetype": "text/x-python",
   "name": "python",
   "nbconvert_exporter": "python",
   "pygments_lexer": "ipython3",
   "version": "3.9.11"
  },
  "orig_nbformat": 4
 },
 "nbformat": 4,
 "nbformat_minor": 2
}
