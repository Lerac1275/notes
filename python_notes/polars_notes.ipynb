{
 "cells": [
  {
   "cell_type": "code",
   "execution_count": 1,
   "metadata": {},
   "outputs": [],
   "source": [
    "import polars as pl, pandas as pd\n",
    "import seaborn as sns"
   ]
  },
  {
   "cell_type": "code",
   "execution_count": 2,
   "metadata": {},
   "outputs": [],
   "source": [
    "# Path to a sample dataset. This dataset has a good variety of numeric / categorical columns. \n",
    "dataset_path = \"../datasets/taxi_data.csv\""
   ]
  },
  {
   "cell_type": "markdown",
   "metadata": {},
   "source": [
    "# Basics\n",
    "\n",
    "Going through the very basics of `polars`. This assumes some familiarity with `pandas` sytax.\n",
    "\n",
    "[Reference](https://pola-rs.github.io/polars/user-guide/concepts/contexts/#select)\n",
    "\n",
    "[Full API Reference](https://pola-rs.github.io/polars/py-polars/html/reference/index.html)"
   ]
  },
  {
   "cell_type": "markdown",
   "metadata": {},
   "source": [
    "## Lazy / Eager API\n",
    "\n",
    "This is a brief summary of `polars'` main operation modes (Lazy / Eager). \n",
    "\n",
    "In short, the default mode of `polars` is _Lazy_. That is to say: execution of the query isn't carried out line-by-line (as in the _Eager_ mode) but is only executed once it is _'needed'_. \n",
    "\n",
    "This has the benefit of: \n",
    "\n",
    "1. Allowing automatic query optimization\n",
    "2. The ability to work with larger than memory datasets using streaming \n",
    "3. Catching scehma errors before data processing\n",
    "\n",
    "Find out more [here](https://pola-rs.github.io/polars/user-guide/lazy/using/)"
   ]
  },
  {
   "cell_type": "markdown",
   "metadata": {},
   "source": [
    "### Eager API\n",
    "Example use case with the eager API:"
   ]
  },
  {
   "cell_type": "code",
   "execution_count": 3,
   "metadata": {},
   "outputs": [],
   "source": [
    "df = pl.read_csv(dataset_path)\n",
    "# Filter out trips with more than one passenger\n",
    "df = df.filter(pl.col('passengers')<=1)\n",
    "# Get the total fares by payment\n",
    "df = df.group_by(\"payment\").agg(pl.col(\"fare\").sum())"
   ]
  },
  {
   "cell_type": "code",
   "execution_count": 4,
   "metadata": {},
   "outputs": [
    {
     "data": {
      "text/html": [
       "<div><style>\n",
       ".dataframe > thead > tr > th,\n",
       ".dataframe > tbody > tr > td {\n",
       "  text-align: right;\n",
       "  white-space: pre-wrap;\n",
       "}\n",
       "</style>\n",
       "<small>shape: (3, 2)</small><table border=\"1\" class=\"dataframe\"><thead><tr><th>payment</th><th>fare</th></tr><tr><td>str</td><td>f64</td></tr></thead><tbody><tr><td>null</td><td>444.5</td></tr><tr><td>&quot;credit card&quot;</td><td>46939.87</td></tr><tr><td>&quot;cash&quot;</td><td>14825.5</td></tr></tbody></table></div>"
      ],
      "text/plain": [
       "shape: (3, 2)\n",
       "┌─────────────┬──────────┐\n",
       "│ payment     ┆ fare     │\n",
       "│ ---         ┆ ---      │\n",
       "│ str         ┆ f64      │\n",
       "╞═════════════╪══════════╡\n",
       "│ null        ┆ 444.5    │\n",
       "│ credit card ┆ 46939.87 │\n",
       "│ cash        ┆ 14825.5  │\n",
       "└─────────────┴──────────┘"
      ]
     },
     "execution_count": 4,
     "metadata": {},
     "output_type": "execute_result"
    }
   ],
   "source": [
    "df"
   ]
  },
  {
   "cell_type": "markdown",
   "metadata": {},
   "source": [
    "Observe that every step was executed immediately to return intermediate results. This is wasteful as we did not need to load in all the data. "
   ]
  },
  {
   "cell_type": "markdown",
   "metadata": {},
   "source": [
    "### Lazy API\n",
    "\n",
    "Recreating the same example but with the _Lazy_ api. "
   ]
  },
  {
   "cell_type": "code",
   "execution_count": 5,
   "metadata": {},
   "outputs": [],
   "source": [
    "q = (\n",
    "    # SCAN does not read in the entire dataset into memory (unlike READ)\n",
    "    pl.scan_csv(dataset_path)\n",
    "    .filter(pl.col('passengers')<=1)\n",
    "    .group_by('payment')\n",
    "    .agg(pl.col(\"fare\").sum())\n",
    ")\n",
    "df = q.collect()"
   ]
  },
  {
   "cell_type": "markdown",
   "metadata": {},
   "source": [
    "For large datasets this significantly lowers the load on memory & CPU, allowing bigger datasets to be processed at greater speeds. \n",
    "\n",
    "Crucially, once the query is defined we call `.collect()` to execute the query. "
   ]
  },
  {
   "cell_type": "markdown",
   "metadata": {},
   "source": [
    "## Contexts\n",
    "\n",
    "A __context__ refers to the context (haha) in which an expression needs to be evaluated, and there are three main contexts :\n",
    "\n",
    "1. Selection - `df.select([...])`, `df.with_columns([..])`\n",
    "2. Filtering - `df.filter()`\n",
    "3. Group By / Aggregation - `df.group_by(...).agg(...)`"
   ]
  },
  {
   "cell_type": "markdown",
   "metadata": {},
   "source": [
    "### Selection\n",
    "\n",
    "In this context the selection applies expressions over columns. The result must be a `series` that are all of equal length or have a length of 1 (then broadcasated to match the height of the `DataFrame`)"
   ]
  },
  {
   "cell_type": "code",
   "execution_count": 6,
   "metadata": {},
   "outputs": [
    {
     "data": {
      "text/html": [
       "<div><style>\n",
       ".dataframe > thead > tr > th,\n",
       ".dataframe > tbody > tr > td {\n",
       "  text-align: right;\n",
       "  white-space: pre-wrap;\n",
       "}\n",
       "</style>\n",
       "<small>shape: (5, 3)</small><table border=\"1\" class=\"dataframe\"><thead><tr><th>fare</th><th>borough_pickup</th><th>mean_distance</th></tr><tr><td>f64</td><td>str</td><td>f64</td></tr></thead><tbody><tr><td>84214.87</td><td>&quot;Bronx&quot;</td><td>30.246168</td></tr><tr><td>84214.87</td><td>&quot;Bronx&quot;</td><td>30.246168</td></tr><tr><td>84214.87</td><td>&quot;Bronx&quot;</td><td>30.246168</td></tr><tr><td>84214.87</td><td>&quot;Bronx&quot;</td><td>30.246168</td></tr><tr><td>84214.87</td><td>&quot;Bronx&quot;</td><td>30.246168</td></tr></tbody></table></div>"
      ],
      "text/plain": [
       "shape: (5, 3)\n",
       "┌──────────┬────────────────┬───────────────┐\n",
       "│ fare     ┆ borough_pickup ┆ mean_distance │\n",
       "│ ---      ┆ ---            ┆ ---           │\n",
       "│ f64      ┆ str            ┆ f64           │\n",
       "╞══════════╪════════════════╪═══════════════╡\n",
       "│ 84214.87 ┆ Bronx          ┆ 30.246168     │\n",
       "│ 84214.87 ┆ Bronx          ┆ 30.246168     │\n",
       "│ 84214.87 ┆ Bronx          ┆ 30.246168     │\n",
       "│ 84214.87 ┆ Bronx          ┆ 30.246168     │\n",
       "│ 84214.87 ┆ Bronx          ┆ 30.246168     │\n",
       "└──────────┴────────────────┴───────────────┘"
      ]
     },
     "execution_count": 6,
     "metadata": {},
     "output_type": "execute_result"
    }
   ],
   "source": [
    "q = (\n",
    "    pl.scan_csv(dataset_path)\n",
    "    .select(\n",
    "        # Sum the fares. Results in ONE value -> Broadcasted\n",
    "        pl.sum('fare') \n",
    "        # Sort a column of values and change the column name\n",
    "        , pl.col('pickup_borough').sort(nulls_last=True).alias('borough_pickup')\n",
    "        # Aggregate a column to produce one value and do an operation on it -> Broadcaster\n",
    "        , (pl.mean('distance')*10).alias('mean_distance')\n",
    "    )\n",
    ")\n",
    "df = q.collect()\n",
    "df.head(5)"
   ]
  },
  {
   "cell_type": "markdown",
   "metadata": {},
   "source": [
    "Within the `select` context, any manipulation of a `Series` can be performed so long as it meets either one of the aforementioned conditions.\n"
   ]
  },
  {
   "cell_type": "markdown",
   "metadata": {},
   "source": [
    "### Filtering & Group By\n",
    "\n",
    "In the `filter` context you filter the existing dataframe based on any arbitrary expression which evaluates to the Boolean data type. \n",
    "\n",
    "The `group_by` context is slightly more complex. The data is first grouped based on a specified column, then a chained `.agg()` call does the aggregation, producing a single result for each group. "
   ]
  },
  {
   "cell_type": "code",
   "execution_count": 8,
   "metadata": {},
   "outputs": [
    {
     "data": {
      "text/html": [
       "<div>\n",
       "<style scoped>\n",
       "    .dataframe tbody tr th:only-of-type {\n",
       "        vertical-align: middle;\n",
       "    }\n",
       "\n",
       "    .dataframe tbody tr th {\n",
       "        vertical-align: top;\n",
       "    }\n",
       "\n",
       "    .dataframe thead th {\n",
       "        text-align: right;\n",
       "    }\n",
       "</style>\n",
       "<table border=\"1\" class=\"dataframe\">\n",
       "  <thead>\n",
       "    <tr style=\"text-align: right;\">\n",
       "      <th></th>\n",
       "      <th>pickup</th>\n",
       "      <th>dropoff</th>\n",
       "      <th>passengers</th>\n",
       "      <th>distance</th>\n",
       "      <th>fare</th>\n",
       "      <th>tip</th>\n",
       "      <th>tolls</th>\n",
       "      <th>total</th>\n",
       "      <th>color</th>\n",
       "      <th>payment</th>\n",
       "      <th>pickup_zone</th>\n",
       "      <th>dropoff_zone</th>\n",
       "      <th>pickup_borough</th>\n",
       "      <th>dropoff_borough</th>\n",
       "    </tr>\n",
       "  </thead>\n",
       "  <tbody>\n",
       "    <tr>\n",
       "      <th>0</th>\n",
       "      <td>2019-03-23 20:21:09</td>\n",
       "      <td>2019-03-23 20:27:24</td>\n",
       "      <td>1</td>\n",
       "      <td>1.60</td>\n",
       "      <td>7.0</td>\n",
       "      <td>2.15</td>\n",
       "      <td>0.0</td>\n",
       "      <td>12.95</td>\n",
       "      <td>yellow</td>\n",
       "      <td>credit card</td>\n",
       "      <td>Lenox Hill West</td>\n",
       "      <td>UN/Turtle Bay South</td>\n",
       "      <td>Manhattan</td>\n",
       "      <td>Manhattan</td>\n",
       "    </tr>\n",
       "    <tr>\n",
       "      <th>1</th>\n",
       "      <td>2019-03-04 16:11:55</td>\n",
       "      <td>2019-03-04 16:19:00</td>\n",
       "      <td>1</td>\n",
       "      <td>0.79</td>\n",
       "      <td>5.0</td>\n",
       "      <td>0.00</td>\n",
       "      <td>0.0</td>\n",
       "      <td>9.30</td>\n",
       "      <td>yellow</td>\n",
       "      <td>cash</td>\n",
       "      <td>Upper West Side South</td>\n",
       "      <td>Upper West Side South</td>\n",
       "      <td>Manhattan</td>\n",
       "      <td>Manhattan</td>\n",
       "    </tr>\n",
       "    <tr>\n",
       "      <th>2</th>\n",
       "      <td>2019-03-27 17:53:01</td>\n",
       "      <td>2019-03-27 18:00:25</td>\n",
       "      <td>1</td>\n",
       "      <td>1.37</td>\n",
       "      <td>7.5</td>\n",
       "      <td>2.36</td>\n",
       "      <td>0.0</td>\n",
       "      <td>14.16</td>\n",
       "      <td>yellow</td>\n",
       "      <td>credit card</td>\n",
       "      <td>Alphabet City</td>\n",
       "      <td>West Village</td>\n",
       "      <td>Manhattan</td>\n",
       "      <td>Manhattan</td>\n",
       "    </tr>\n",
       "    <tr>\n",
       "      <th>3</th>\n",
       "      <td>2019-03-10 01:23:59</td>\n",
       "      <td>2019-03-10 01:49:51</td>\n",
       "      <td>1</td>\n",
       "      <td>7.70</td>\n",
       "      <td>27.0</td>\n",
       "      <td>6.15</td>\n",
       "      <td>0.0</td>\n",
       "      <td>36.95</td>\n",
       "      <td>yellow</td>\n",
       "      <td>credit card</td>\n",
       "      <td>Hudson Sq</td>\n",
       "      <td>Yorkville West</td>\n",
       "      <td>Manhattan</td>\n",
       "      <td>Manhattan</td>\n",
       "    </tr>\n",
       "    <tr>\n",
       "      <th>4</th>\n",
       "      <td>2019-03-30 13:27:42</td>\n",
       "      <td>2019-03-30 13:37:14</td>\n",
       "      <td>3</td>\n",
       "      <td>2.16</td>\n",
       "      <td>9.0</td>\n",
       "      <td>1.10</td>\n",
       "      <td>0.0</td>\n",
       "      <td>13.40</td>\n",
       "      <td>yellow</td>\n",
       "      <td>credit card</td>\n",
       "      <td>Midtown East</td>\n",
       "      <td>Yorkville West</td>\n",
       "      <td>Manhattan</td>\n",
       "      <td>Manhattan</td>\n",
       "    </tr>\n",
       "  </tbody>\n",
       "</table>\n",
       "</div>"
      ],
      "text/plain": [
       "                pickup              dropoff  passengers  distance  fare   tip  \\\n",
       "0  2019-03-23 20:21:09  2019-03-23 20:27:24           1      1.60   7.0  2.15   \n",
       "1  2019-03-04 16:11:55  2019-03-04 16:19:00           1      0.79   5.0  0.00   \n",
       "2  2019-03-27 17:53:01  2019-03-27 18:00:25           1      1.37   7.5  2.36   \n",
       "3  2019-03-10 01:23:59  2019-03-10 01:49:51           1      7.70  27.0  6.15   \n",
       "4  2019-03-30 13:27:42  2019-03-30 13:37:14           3      2.16   9.0  1.10   \n",
       "\n",
       "   tolls  total   color      payment            pickup_zone  \\\n",
       "0    0.0  12.95  yellow  credit card        Lenox Hill West   \n",
       "1    0.0   9.30  yellow         cash  Upper West Side South   \n",
       "2    0.0  14.16  yellow  credit card          Alphabet City   \n",
       "3    0.0  36.95  yellow  credit card              Hudson Sq   \n",
       "4    0.0  13.40  yellow  credit card           Midtown East   \n",
       "\n",
       "            dropoff_zone pickup_borough dropoff_borough  \n",
       "0    UN/Turtle Bay South      Manhattan       Manhattan  \n",
       "1  Upper West Side South      Manhattan       Manhattan  \n",
       "2           West Village      Manhattan       Manhattan  \n",
       "3         Yorkville West      Manhattan       Manhattan  \n",
       "4         Yorkville West      Manhattan       Manhattan  "
      ]
     },
     "execution_count": 8,
     "metadata": {},
     "output_type": "execute_result"
    }
   ],
   "source": [
    "tdf = pd.read_csv(dataset_path)\n",
    "tdf.head()"
   ]
  },
  {
   "cell_type": "code",
   "execution_count": 16,
   "metadata": {},
   "outputs": [
    {
     "data": {
      "text/html": [
       "<div><style>\n",
       ".dataframe > thead > tr > th,\n",
       ".dataframe > tbody > tr > td {\n",
       "  text-align: right;\n",
       "  white-space: pre-wrap;\n",
       "}\n",
       "</style>\n",
       "<small>shape: (3, 4)</small><table border=\"1\" class=\"dataframe\"><thead><tr><th>payment</th><th>tip</th><th>dropoff_zone</th><th>distance</th></tr><tr><td>str</td><td>f64</td><td>list[str]</td><td>list[f64]</td></tr></thead><tbody><tr><td>&quot;credit card&quot;</td><td>12732.32</td><td>[&quot;UN/Turtle Bay South&quot;, &quot;West Village&quot;, … &quot;Windsor Terrace&quot;]</td><td>[1.6, 1.37, … 3.85]</td></tr><tr><td>null</td><td>0.0</td><td>[&quot;Flatiron&quot;, &quot;Columbia Street&quot;, … &quot;Long Island City/Hunters Point&quot;]</td><td>[1.4, 1.3, … 0.7]</td></tr><tr><td>&quot;cash&quot;</td><td>0.0</td><td>[&quot;Upper West Side South&quot;, &quot;Astoria&quot;, … &quot;Bushwick North&quot;]</td><td>[0.79, 3.9, … 4.14]</td></tr></tbody></table></div>"
      ],
      "text/plain": [
       "shape: (3, 4)\n",
       "┌─────────────┬──────────┬───────────────────────────────────┬─────────────────────┐\n",
       "│ payment     ┆ tip      ┆ dropoff_zone                      ┆ distance            │\n",
       "│ ---         ┆ ---      ┆ ---                               ┆ ---                 │\n",
       "│ str         ┆ f64      ┆ list[str]                         ┆ list[f64]           │\n",
       "╞═════════════╪══════════╪═══════════════════════════════════╪═════════════════════╡\n",
       "│ credit card ┆ 12732.32 ┆ [\"UN/Turtle Bay South\", \"West Vi… ┆ [1.6, 1.37, … 3.85] │\n",
       "│ null        ┆ 0.0      ┆ [\"Flatiron\", \"Columbia Street\", … ┆ [1.4, 1.3, … 0.7]   │\n",
       "│ cash        ┆ 0.0      ┆ [\"Upper West Side South\", \"Astor… ┆ [0.79, 3.9, … 4.14] │\n",
       "└─────────────┴──────────┴───────────────────────────────────┴─────────────────────┘"
      ]
     },
     "execution_count": 16,
     "metadata": {},
     "output_type": "execute_result"
    }
   ],
   "source": [
    "q = (\n",
    "    pl.scan_csv(dataset_path)\n",
    "    .group_by('payment').agg(\n",
    "        pl.sum('tip')\n",
    "        , pl.col('dropoff_zone')\n",
    "        , pl.col('distance')\n",
    "    )\n",
    ")\n",
    "df = q.collect()\n",
    "df"
   ]
  },
  {
   "cell_type": "markdown",
   "metadata": {},
   "source": [
    "All expressions are applied to the group defined by the group_by context. Simply selecting a columnin  the `agg()` portion results in a list of that series for that group, as the `pl.col()` expression returns that column Series. "
   ]
  },
  {
   "cell_type": "markdown",
   "metadata": {},
   "source": [
    "## Expressions\n",
    "\n",
    "Expressions in `polars` __are a mapping from a series to a series__ (or mathematically Fn(Series) -> Series). As expressions have a Series as an input and a Series as an output then it is straightforward to do a sequence of expressions (similar to method chaining in Pandas)\n",
    "\n",
    "Essentially, any `polars` method call that transforms a series into another series is an expression. Every expression produces a new expression, and __expressions can be piped together__. "
   ]
  },
  {
   "cell_type": "code",
   "execution_count": 22,
   "metadata": {},
   "outputs": [
    {
     "name": "stdout",
     "output_type": "stream",
     "text": [
      "shape: (2, 2)\n",
      "┌─────────────────────┬───────┐\n",
      "│ pickup              ┆ dummy │\n",
      "│ ---                 ┆ ---   │\n",
      "│ str                 ┆ f64   │\n",
      "╞═════════════════════╪═══════╡\n",
      "│ 2019-02-28 23:29:03 ┆ 5.0   │\n",
      "│ 2019-03-01 00:03:29 ┆ 5.0   │\n",
      "└─────────────────────┴───────┘\n"
     ]
    }
   ],
   "source": [
    "q = (\n",
    "    pl.scan_csv(dataset_path)\n",
    "    .select(\n",
    "        # 2 separate expressions chained together\n",
    "        pl.col('pickup').sort().head(2)\n",
    "        # Another 2 separate expressions. In this example we also play around with the select context. \n",
    "        # Observe the automatic broadcasting of the second column\n",
    "        , pl.col('fare').filter(pl.col('pickup')=='2019-02-28 23:29:03').sum().alias(\"dummy\")\n",
    "    )\n",
    ")\n",
    "df = q.collect()\n",
    "print(df)"
   ]
  },
  {
   "cell_type": "markdown",
   "metadata": {},
   "source": [
    "All expressions are run in parallel, meaning that separate `polars` expressions are embarrassingly parallel. Note that within an expression there may be more parallelization going on."
   ]
  },
  {
   "cell_type": "markdown",
   "metadata": {},
   "source": []
  }
 ],
 "metadata": {
  "kernelspec": {
   "display_name": "ds_py3.9",
   "language": "python",
   "name": "python3"
  },
  "language_info": {
   "codemirror_mode": {
    "name": "ipython",
    "version": 3
   },
   "file_extension": ".py",
   "mimetype": "text/x-python",
   "name": "python",
   "nbconvert_exporter": "python",
   "pygments_lexer": "ipython3",
   "version": "3.9.11"
  },
  "orig_nbformat": 4
 },
 "nbformat": 4,
 "nbformat_minor": 2
}
